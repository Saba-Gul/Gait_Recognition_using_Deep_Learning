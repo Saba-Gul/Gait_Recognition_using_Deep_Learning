{
 "cells": [
  {
   "cell_type": "markdown",
   "metadata": {},
   "source": [
    "# Data preprocess"
   ]
  },
  {
   "cell_type": "code",
   "execution_count": null,
   "metadata": {
    "collapsed": true
   },
   "outputs": [],
   "source": [
    "\"\"\"\n",
    "generate train data, validation data, and test data\n",
    "\"\"\"\n",
    "import os\n",
    "%matplotlib inline\n",
    "\n",
    "import matplotlib.pyplot as plt\n",
    "from scipy.ndimage import imread\n",
    "from scipy.misc import imsave\n",
    "import numpy as np\n",
    "import os\n",
    "from numpy import genfromtxt\n",
    "import tensorflow as tf\n",
    "from PIL import Image\n",
    "import pickle"
   ]
  },
  {
   "cell_type": "code",
   "execution_count": null,
   "metadata": {
    "collapsed": true
   },
   "outputs": [],
   "source": [
    "def generate_data_list(path, subjects):\n",
    "    \"\"\"\n",
    "    生成每个subject的所有图片\n",
    "    \"\"\"\n",
    "    for subject in subjects:\n",
    "        subject_path = os.path.join(path, subject)\n",
    "        images = os.listdir(subject_path)\n",
    "        yield (images, subject)"
   ]
  },
  {
   "cell_type": "code",
   "execution_count": null,
   "metadata": {
    "collapsed": true
   },
   "outputs": [],
   "source": [
    "def generate_degree_list(gallery_path, images):\n",
    "    \"\"\"\n",
    "    生成每个subject的四个不同的degree的图片, 列在一起 \n",
    "    \"\"\"\n",
    "    list_55 = []\n",
    "    list_65 = []\n",
    "    list_75 = []\n",
    "    list_85 = []\n",
    "    for image in images[0]:\n",
    "        image_path = os.path.join(gallery_path, images[1], image)\n",
    "        if image[-6:] == '55.png':\n",
    "            list_55.append(imread(image_path))\n",
    "        elif image[-6:] == '65.png':\n",
    "            list_65.append(imread(image_path))\n",
    "        elif image[-6:] == '75.png':\n",
    "            list_75.append(imread(image_path))\n",
    "        elif image[-6:] == '85.png':\n",
    "            list_85.append(imread(image_path))\n",
    "    list_total = [list_55, list_65, list_75, list_85]\n",
    "    \n",
    "    return list_total"
   ]
  },
  {
   "cell_type": "code",
   "execution_count": null,
   "metadata": {
    "collapsed": true
   },
   "outputs": [],
   "source": [
    "def generate_subject_list(subjects, gallery_path, subject_iteration):\n",
    "    \"\"\"\n",
    "    生成一个list, 包含所有subjects的images \n",
    "    \"\"\"\n",
    "    subject_list = []\n",
    "    for subject in subjects:\n",
    "        list_total = generate_degree_list(gallery_path, next(subject_iteration))\n",
    "        subject_list.append(list_total)\n",
    "    return subject_list"
   ]
  },
  {
   "cell_type": "markdown",
   "metadata": {},
   "source": [
    "# Get dataset"
   ]
  },
  {
   "cell_type": "code",
   "execution_count": 31,
   "metadata": {},
   "outputs": [
    {
     "ename": "OSError",
     "evalue": "[Errno 22] Invalid argument",
     "output_type": "error",
     "traceback": [
      "\u001b[0;31m---------------------------------------------------------------------------\u001b[0m",
      "\u001b[0;31mOSError\u001b[0m                                   Traceback (most recent call last)",
      "\u001b[0;32m<ipython-input-31-2733e4ba9925>\u001b[0m in \u001b[0;36m<module>\u001b[0;34m()\u001b[0m\n\u001b[1;32m     11\u001b[0m \u001b[0msubject_list\u001b[0m \u001b[0;34m=\u001b[0m \u001b[0mgenerate_subject_list\u001b[0m\u001b[0;34m(\u001b[0m\u001b[0msubjects\u001b[0m\u001b[0;34m,\u001b[0m \u001b[0mgallery_path\u001b[0m\u001b[0;34m,\u001b[0m \u001b[0my\u001b[0m\u001b[0;34m)\u001b[0m\u001b[0;34m\u001b[0m\u001b[0m\n\u001b[1;32m     12\u001b[0m \u001b[0;32mwith\u001b[0m \u001b[0mopen\u001b[0m\u001b[0;34m(\u001b[0m\u001b[0;34m'preprocess_1.p'\u001b[0m\u001b[0;34m,\u001b[0m \u001b[0;34m'wb'\u001b[0m\u001b[0;34m)\u001b[0m \u001b[0;32mas\u001b[0m \u001b[0mout_file\u001b[0m\u001b[0;34m:\u001b[0m\u001b[0;34m\u001b[0m\u001b[0m\n\u001b[0;32m---> 13\u001b[0;31m     \u001b[0mpickle\u001b[0m\u001b[0;34m.\u001b[0m\u001b[0mdump\u001b[0m\u001b[0;34m(\u001b[0m\u001b[0msubject_list\u001b[0m\u001b[0;34m,\u001b[0m \u001b[0mout_file\u001b[0m\u001b[0;34m)\u001b[0m\u001b[0;34m\u001b[0m\u001b[0m\n\u001b[0m",
      "\u001b[0;31mOSError\u001b[0m: [Errno 22] Invalid argument"
     ]
    }
   ],
   "source": [
    "# gallery path\n",
    "gallery_path = 'OULP-C1V2_Pack/OULP-deference-(128x88)/Seq00'\n",
    "\n",
    "# get all subjects\n",
    "subjects = os.listdir(gallery_path)\n",
    "subjects = subjects[1:] \n",
    "\n",
    "# 得到iteration\n",
    "y = generate_data_list(gallery_path, subjects)\n",
    "\n",
    "subject_list = generate_subject_list(subjects, gallery_path, y)"
   ]
  },
  {
   "cell_type": "code",
   "execution_count": null,
   "metadata": {
    "collapsed": true
   },
   "outputs": [],
   "source": [
    "subject_list = np.array(subject_list)"
   ]
  },
  {
   "cell_type": "code",
   "execution_count": 54,
   "metadata": {
    "collapsed": true
   },
   "outputs": [],
   "source": [
    "with open('preprocess_1.p', 'wb') as out_file:\n",
    "#     pickle.dump((subject_list), out_file)\n",
    "    for each in subject_list:\n",
    "        np.save(out_file, each)"
   ]
  },
  {
   "cell_type": "code",
   "execution_count": 76,
   "metadata": {
    "collapsed": true
   },
   "outputs": [],
   "source": [
    "gallery_path_2 = 'OULP-C1V2_Pack/OULP-deference-(224x224)/Seq01'\n",
    "\n",
    "subjects = os.listdir(gallery_path_2)\n",
    "subjects = subjects[1:] \n",
    "\n",
    "y2 = generate_data_list(gallery_path_2, subjects)\n",
    "\n",
    "subject_list_2 = generate_subject_list(subjects, gallery_path_2, y2)"
   ]
  },
  {
   "cell_type": "code",
   "execution_count": 78,
   "metadata": {},
   "outputs": [
    {
     "data": {
      "text/plain": [
       "array([[128, 128, 128, ..., 128, 128, 128],\n",
       "       [128, 128, 128, ..., 128, 128, 128],\n",
       "       [128, 128, 128, ..., 128, 128, 128],\n",
       "       ..., \n",
       "       [128, 128, 128, ..., 128, 128, 128],\n",
       "       [128, 128, 128, ..., 128, 128, 128],\n",
       "       [128, 128, 128, ..., 128, 128, 128]], dtype=uint8)"
      ]
     },
     "execution_count": 78,
     "metadata": {},
     "output_type": "execute_result"
    }
   ],
   "source": [
    "subject_list_2 = np.array(subject_list_2)\n",
    "subject_list_2[0][3][5]"
   ]
  },
  {
   "cell_type": "code",
   "execution_count": 80,
   "metadata": {},
   "outputs": [],
   "source": [
    "with open('gait_data/preprocess_3.p', 'wb') as jj:\n",
    "#     for each in subject_list_2:\n",
    "#         pickle.dump(each, out_file)\n",
    "    for each in subject_list_2:\n",
    "        np.save(jj, each)"
   ]
  },
  {
   "cell_type": "code",
   "execution_count": 145,
   "metadata": {},
   "outputs": [
    {
     "data": {
      "text/plain": [
       "(128, 88)"
      ]
     },
     "execution_count": 145,
     "metadata": {},
     "output_type": "execute_result"
    },
    {
     "data": {
      "image/png": "[encoded data removed]",
      "text/plain": [
       "<matplotlib.figure.Figure at 0x11e697a90>"
      ]
     },
     "metadata": {},
     "output_type": "display_data"
    }
   ],
   "source": [
    "plt.imshow(subject_list[0][0][0])\n",
    "subject_list[0][0][0].shape"
   ]
  },
  {
   "cell_type": "code",
   "execution_count": 22,
   "metadata": {},
   "outputs": [
    {
     "name": "stdout",
     "output_type": "stream",
     "text": [
      "[1, 2, 3, 4, 5, 6, 7, 8, 9, 10, 11, 12, 13, 14, 15, 16, 17, 18, 19, 20, 21, 22, 23, 24, 25, 26, 27, 28, 29, 30]\n",
      "[1, 2, 3, 4, 5, 6, 7, 8, 9, 10, 11, 12, 13, 14, 15]\n",
      "16\n",
      "17\n",
      "18\n",
      "19\n",
      "20\n",
      "21\n",
      "22\n",
      "23\n",
      "24\n",
      "25\n",
      "26\n",
      "27\n",
      "28\n",
      "29\n",
      "30\n"
     ]
    }
   ],
   "source": [
    "def get_subject_batches(ii, subject):\n",
    "    \"\"\"\n",
    "    yield every batch inside of one subject\n",
    "    \"\"\"\n",
    "    if ii == 0:\n",
    "        out_batch = subject[:15]\n",
    "    else:\n",
    "        out_batch = subject[ii + 14]\n",
    "    yield out_batch\n",
    "             \n",
    "subject = [i for i in range(1,31)]\n",
    "print(subject)\n",
    "\n",
    "for ii in range(len(subject) - 14):\n",
    "    x = get_subject_batches(ii, subject)\n",
    "    print(next(x))\n"
   ]
  },
  {
   "cell_type": "code",
   "execution_count": null,
   "metadata": {
    "collapsed": true
   },
   "outputs": [],
   "source": []
  }
 ],
 "metadata": {
  "kernelspec": {
   "display_name": "Python 3",
   "language": "python",
   "name": "python3"
  }
 },
 "nbformat": 4,
 "nbformat_minor": 2
}
